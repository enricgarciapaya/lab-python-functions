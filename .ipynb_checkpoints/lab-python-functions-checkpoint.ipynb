{
 "cells": [
  {
   "cell_type": "markdown",
   "id": "25d7736c-ba17-4aff-b6bb-66eba20fbf4e",
   "metadata": {},
   "source": [
    "# Lab | Functions"
   ]
  },
  {
   "cell_type": "markdown",
   "id": "0c581062-8967-4d93-b06e-62833222f930",
   "metadata": {
    "tags": []
   },
   "source": [
    "## Exercise: Managing Customer Orders with Functions\n",
    "\n",
    "In the previous exercise, you improved the code for managing customer orders by using loops and flow control. Now, let's take it a step further and refactor the code by introducing functions.\n",
    "\n",
    "Follow the steps below to complete the exercise:\n",
    "\n",
    "1. Define a function named `initialize_inventory` that takes `products` as a parameter. Inside the function, implement the code for initializing the inventory dictionary using a loop and user input.\n",
    "\n",
    "2. Define a function named `get_customer_orders` that takes no parameters. Inside the function, implement the code for prompting the user to enter the product names using a loop. The function should return the `customer_orders` set.\n",
    "\n",
    "3. Define a function named `update_inventory` that takes `customer_orders` and `inventory` as parameters. Inside the function, implement the code for updating the inventory dictionary based on the customer orders.\n",
    "\n",
    "4. Define a function named `calculate_order_statistics` that takes `customer_orders` and `products` as parameters. Inside the function, implement the code for calculating the order statistics (total products ordered, and percentage of unique products ordered). The function should return these values.\n",
    "\n",
    "5. Define a function named `print_order_statistics` that takes `order_statistics` as a parameter. Inside the function, implement the code for printing the order statistics.\n",
    "\n",
    "6. Define a function named `print_updated_inventory` that takes `inventory` as a parameter. Inside the function, implement the code for printing the updated inventory.\n",
    "\n",
    "7. Call the functions in the appropriate sequence to execute the program and manage customer orders.\n",
    "\n",
    "Hints for functions:\n",
    "\n",
    "- Consider the input parameters required for each function and their return values.\n",
    "- Utilize function parameters and return values to transfer data between functions.\n",
    "- Test your functions individually to ensure they work correctly.\n",
    "\n",
    "\n",
    "#"
   ]
  },
  {
   "cell_type": "code",
   "execution_count": 6,
   "id": "0beb9056",
   "metadata": {},
   "outputs": [],
   "source": [
    "products=[\"t-shirt\", \"mug\", \"hat\", \"book\", \"keychain\"]"
   ]
  },
  {
   "cell_type": "code",
   "execution_count": 7,
   "id": "49966636",
   "metadata": {},
   "outputs": [],
   "source": [
    "#1) Define a function named initialize_inventory that takes products as a parameter. Inside the function, implement the code for initializing the inventory dictionary using a loop and user input.\n",
    "\n",
    "#efine a function named initialize_inventory that takes products as a parameter\n",
    "def initialize_inventory(products):  #  iniciate function take a list as a parameter\n",
    "    inventory={}                     # create a an empty dict to store keys and values \n",
    "    for product in products:         # for each element in a list do the following\n",
    "        inventory[product] = int(input(f\"Please input the quantity available for each {product}: \"))\n",
    "        \n",
    "    return inventory   \n",
    "        \n",
    "    \n",
    "#problmea los elementos de la lista no se convierte en keys "
   ]
  },
  {
   "cell_type": "code",
   "execution_count": 8,
   "id": "64edfc4f",
   "metadata": {},
   "outputs": [
    {
     "name": "stdout",
     "output_type": "stream",
     "text": [
      "Please input the quantity available for each t-shirt: 5\n",
      "Please input the quantity available for each mug: 5\n",
      "Please input the quantity available for each hat: 5\n",
      "Please input the quantity available for each book: 5\n",
      "Please input the quantity available for each keychain: 5\n"
     ]
    }
   ],
   "source": [
    "inventory=initialize_inventory(products)\n"
   ]
  },
  {
   "cell_type": "code",
   "execution_count": 49,
   "id": "af1d5298",
   "metadata": {},
   "outputs": [],
   "source": []
  },
  {
   "cell_type": "code",
   "execution_count": 9,
   "id": "4225f171",
   "metadata": {},
   "outputs": [],
   "source": [
    "#2 Define a function named get_customer_orders that takes no parameters.\n",
    "\n",
    "def get_customer_orders():\n",
    "    customer_order1=[]\n",
    "    product_name=input(\"enter the name of a product \")\n",
    "    if product_name in products:\n",
    "        customer_order1.append(product_name)\n",
    "    else:\n",
    "        print(\"Invalid input. Please enter a product from the available products.\")\n",
    "\n",
    "    while True:\n",
    "        product_name_y_n=input(\" do you want to add another product? please insert (yes/no) \").lower() #c. Ask the user if they want to add another product (yes/no).\n",
    "        if product_name_y_n==\"yes\": \n",
    "            product_name=input(\"enter the name of a prod \")\n",
    "            if product_name in products:\n",
    "                customer_order1.append(product_name)\n",
    "            else:\n",
    "                print(\"Invalid input. Please enter 'yes' or 'no'.\")\n",
    "        elif product_name_y_n==\"no\":\n",
    "            break\n",
    "        else:\n",
    "            print(\"Invalid input. Please enter 'yes' or 'no'.\") \n",
    "    customer_order=set(customer_order1)\n",
    "    return customer_order"
   ]
  },
  {
   "cell_type": "code",
   "execution_count": 10,
   "id": "04f3b81c",
   "metadata": {},
   "outputs": [
    {
     "name": "stdout",
     "output_type": "stream",
     "text": [
      "enter the name of a product hat\n",
      " do you want to add another product? please insert (yes/no) yes\n",
      "enter the name of a prod book\n",
      " do you want to add another product? please insert (yes/no) no\n"
     ]
    }
   ],
   "source": [
    "customer_orders=get_customer_orders() # to store the values of the function in a set\n",
    "\n"
   ]
  },
  {
   "cell_type": "code",
   "execution_count": 11,
   "id": "4b6b6793",
   "metadata": {},
   "outputs": [
    {
     "name": "stdout",
     "output_type": "stream",
     "text": [
      "{'hat', 'book'}\n"
     ]
    }
   ],
   "source": [
    "print(customer_orders)"
   ]
  },
  {
   "cell_type": "code",
   "execution_count": 12,
   "id": "c0bb28bb",
   "metadata": {},
   "outputs": [
    {
     "name": "stdout",
     "output_type": "stream",
     "text": [
      "please enter quantity of product you want to order hat: 7\n",
      "please enter quantity of product you want to order book: 7\n",
      "{'t-shirt': 5, 'mug': 5, 'hat': -2, 'book': -2, 'keychain': 5}\n"
     ]
    }
   ],
   "source": [
    "# 3Define a function named update_inventory that takes customer_orders and inventory as parameters.\n",
    "# Inside the function, implement the code for updating the inventory dictionary based on the customer orders.\n",
    "def update_inventory(customer_orders,inventory):\n",
    "    for product_key in inventory:\n",
    "    \n",
    "        if product_key in customer_orders:\n",
    "            inventory[product_key]=(inventory[product_key]-int(input(f\"please enter quantity of product you want to order {product_key}: \")))       \n",
    "    return inventory\n",
    "updated_dictionary=update_inventory(customer_orders,inventory)\n",
    "print(updated_dictionary)"
   ]
  },
  {
   "cell_type": "code",
   "execution_count": 7,
   "id": "9f65dedc",
   "metadata": {},
   "outputs": [
    {
     "ename": "SyntaxError",
     "evalue": "expected ':' (2530286385.py, line 2)",
     "output_type": "error",
     "traceback": [
      "\u001b[1;36m  Cell \u001b[1;32mIn[7], line 2\u001b[1;36m\u001b[0m\n\u001b[1;33m    def calculate_order_statistics(customer_orders,product)\u001b[0m\n\u001b[1;37m                                                           ^\u001b[0m\n\u001b[1;31mSyntaxError\u001b[0m\u001b[1;31m:\u001b[0m expected ':'\n"
     ]
    }
   ],
   "source": []
  },
  {
   "cell_type": "code",
   "execution_count": 8,
   "id": "8dbca29d",
   "metadata": {},
   "outputs": [],
   "source": [
    "# 4 Define a function named calculate_order_statistics that takes customer_orders and products as parameters. \n",
    "# Inside the function, \n",
    "# implement the code for calculating the order statistics (total products ordered, and percentage of unique products ordered).\n",
    "#The function should return these values.\n",
    "def calculate_order_statistics(customer_orders,products):\n",
    "    total_number_products_ordered=len(customer_orders)\n",
    "    Percentage_of_Products_Ordered= format(len(customer_orders)/len(products), '%')\n",
    "    order_status=(total_number_products_ordered,Percentage_of_Products_Ordered)\n",
    "    return order_status\n",
    "\n"
   ]
  },
  {
   "cell_type": "code",
   "execution_count": 9,
   "id": "57876eda",
   "metadata": {},
   "outputs": [],
   "source": [
    "order_statistics=calculate_order_statistics(customer_orders,products)"
   ]
  },
  {
   "cell_type": "code",
   "execution_count": 154,
   "id": "e1bb0b54",
   "metadata": {},
   "outputs": [
    {
     "data": {
      "text/plain": [
       "(2, '40.000000%')"
      ]
     },
     "execution_count": 154,
     "metadata": {},
     "output_type": "execute_result"
    }
   ],
   "source": []
  },
  {
   "cell_type": "code",
   "execution_count": 10,
   "id": "4fff43f8",
   "metadata": {},
   "outputs": [],
   "source": [
    "#5 define a function named print_order_statistics that takes order_statistics as a parameter. \n",
    "# Inside the function, implement the code for printing the order statistics.\n",
    "def print_order_statistics(order_statistics):\n",
    "    print(order_statistics)\n"
   ]
  },
  {
   "cell_type": "code",
   "execution_count": 12,
   "id": "c9dfc9d9",
   "metadata": {},
   "outputs": [],
   "source": [
    "#6Define a function named print_updated_inventory that takes inventory as a parameter.\n",
    "#Inside the function, implement the code for printing the updated inventory.\n",
    "def print_updated_inventory (inventory):\n",
    "    print(updated_dictionary)\n"
   ]
  },
  {
   "cell_type": "code",
   "execution_count": 13,
   "id": "c0bded43",
   "metadata": {},
   "outputs": [
    {
     "name": "stdout",
     "output_type": "stream",
     "text": [
      "{'t-shirt': 30, 'mug': 30, 'hat': 25, 'book': 24, 'keychain': 30}\n"
     ]
    }
   ],
   "source": [
    "print_updated_inventory (inventory)"
   ]
  },
  {
   "cell_type": "code",
   "execution_count": 1,
   "id": "ec7671c2",
   "metadata": {},
   "outputs": [
    {
     "ename": "NameError",
     "evalue": "name 'initialize_inventory' is not defined",
     "output_type": "error",
     "traceback": [
      "\u001b[1;31m---------------------------------------------------------------------------\u001b[0m",
      "\u001b[1;31mNameError\u001b[0m                                 Traceback (most recent call last)",
      "Cell \u001b[1;32mIn[1], line 3\u001b[0m\n\u001b[0;32m      1\u001b[0m \u001b[38;5;66;03m#7 Call the functions in the appropriate sequence to execute the program and manage customer orders.\u001b[39;00m\n\u001b[0;32m      2\u001b[0m products\u001b[38;5;241m=\u001b[39m[\u001b[38;5;124m\"\u001b[39m\u001b[38;5;124mt-shirt\u001b[39m\u001b[38;5;124m\"\u001b[39m, \u001b[38;5;124m\"\u001b[39m\u001b[38;5;124mmug\u001b[39m\u001b[38;5;124m\"\u001b[39m, \u001b[38;5;124m\"\u001b[39m\u001b[38;5;124mhat\u001b[39m\u001b[38;5;124m\"\u001b[39m, \u001b[38;5;124m\"\u001b[39m\u001b[38;5;124mbook\u001b[39m\u001b[38;5;124m\"\u001b[39m, \u001b[38;5;124m\"\u001b[39m\u001b[38;5;124mkeychain\u001b[39m\u001b[38;5;124m\"\u001b[39m]\n\u001b[1;32m----> 3\u001b[0m inventory\u001b[38;5;241m=\u001b[39minitialize_inventory(products)\n\u001b[0;32m      4\u001b[0m customer_orders\u001b[38;5;241m=\u001b[39mget_customer_orders()\n\u001b[0;32m      5\u001b[0m updated_dictionary\u001b[38;5;241m=\u001b[39mupdate_inventory(customer_orders,inventory)\n",
      "\u001b[1;31mNameError\u001b[0m: name 'initialize_inventory' is not defined"
     ]
    }
   ],
   "source": [
    "#7 Call the functions in the appropriate sequence to execute the program and manage customer orders.\n",
    "products=[\"t-shirt\", \"mug\", \"hat\", \"book\", \"keychain\"]\n",
    "inventory=initialize_inventory(products)\n",
    "customer_orders=get_customer_orders()\n",
    "updated_dictionary=update_inventory(customer_orders,inventory)\n",
    "order_statistics=calculate_order_statistics(customer_orders,products)\n",
    "print_order_statistics(order_statistics)\n",
    "print_updated_inventory (updated_dictionary)\n"
   ]
  },
  {
   "cell_type": "code",
   "execution_count": null,
   "id": "d49f1b5f",
   "metadata": {},
   "outputs": [],
   "source": [
    "updated_dictionary=update_inventory(customer_orders,inventory)\n",
    "order_statistics=calculate_order_statistics(customer_orders,products)"
   ]
  }
 ],
 "metadata": {
  "kernelspec": {
   "display_name": "Python 3 (ipykernel)",
   "language": "python",
   "name": "python3"
  },
  "language_info": {
   "codemirror_mode": {
    "name": "ipython",
    "version": 3
   },
   "file_extension": ".py",
   "mimetype": "text/x-python",
   "name": "python",
   "nbconvert_exporter": "python",
   "pygments_lexer": "ipython3",
   "version": "3.11.5"
  }
 },
 "nbformat": 4,
 "nbformat_minor": 5
}
